{
 "cells": [
  {
   "cell_type": "code",
   "execution_count": 1,
   "metadata": {},
   "outputs": [],
   "source": [
    "from langchain.agents import load_tools\n",
    "from langchain.agents import initialize_agent\n",
    "from langchain.llms import OpenAI\n",
    "\n",
    "import os"
   ]
  },
  {
   "cell_type": "code",
   "execution_count": 2,
   "metadata": {},
   "outputs": [],
   "source": [
    "import sys\n",
    "sys.path.append('../')\n",
    "from apikey import openApiKey, serpapiApiKey"
   ]
  },
  {
   "cell_type": "code",
   "execution_count": 3,
   "metadata": {},
   "outputs": [],
   "source": [
    "os.environ['OPENAI_API_KEY'] = openApiKey\n",
    "os.environ['SERPAPI_API_KEY'] = serpapiApiKey"
   ]
  },
  {
   "cell_type": "code",
   "execution_count": 4,
   "metadata": {},
   "outputs": [],
   "source": [
    "\n",
    "tool_names = ['serpapi']\n",
    "tools = load_tools(tool_names = tool_names)"
   ]
  },
  {
   "cell_type": "code",
   "execution_count": 6,
   "metadata": {},
   "outputs": [],
   "source": [
    "llm = OpenAI(temperature=0.5,)\n",
    "agent = initialize_agent(tools, llm, agent=\"zero-shot-react-description\", verbose=True)"
   ]
  },
  {
   "cell_type": "code",
   "execution_count": 8,
   "metadata": {},
   "outputs": [
    {
     "name": "stdout",
     "output_type": "stream",
     "text": [
      "\n",
      "\n",
      "\u001b[1m> Entering new AgentExecutor chain...\u001b[0m\n",
      "\u001b[32;1m\u001b[1;3m I need to find out the current statistics of the war\n",
      "Action: Search\n",
      "Action Input: \"Russian Ukraine war casualties\"\u001b[0m\n",
      "Observation: \u001b[36;1m\u001b[1;3mExcluding the Russian and Ukrainian military casualties, at least 258 combatants and volunteers, foreign citizens or foreign-born, were killed during the war.\u001b[0m\n",
      "Thought:\u001b[32;1m\u001b[1;3m I need to find out the total number of casualties\n",
      "Action: Search\n",
      "Action Input: \"Russian Ukraine war total casualties\"\u001b[0m\n",
      "Observation: \u001b[36;1m\u001b[1;3mUkraine has suffered 124,500-131,000 total casualties, including 15,500-17,500 killed in action and 109,000-113,500 wounded in action, according ...\u001b[0m\n",
      "Thought:\u001b[32;1m\u001b[1;3m I now know the final answer\n",
      "Final Answer: 124,500-131,000 total casualties, including 15,500-17,500 killed in action and 109,000-113,500 wounded in action.\u001b[0m\n",
      "\n",
      "\u001b[1m> Finished chain.\u001b[0m\n"
     ]
    },
    {
     "data": {
      "text/plain": [
       "'124,500-131,000 total casualties, including 15,500-17,500 killed in action and 109,000-113,500 wounded in action.'"
      ]
     },
     "execution_count": 8,
     "metadata": {},
     "output_type": "execute_result"
    }
   ],
   "source": [
    "agent.run(\"How many people dies in Russian Ukraine war from 2022 till now days\")"
   ]
  }
 ],
 "metadata": {
  "kernelspec": {
   "display_name": "logchain_test",
   "language": "python",
   "name": "python3"
  },
  "language_info": {
   "codemirror_mode": {
    "name": "ipython",
    "version": 3
   },
   "file_extension": ".py",
   "mimetype": "text/x-python",
   "name": "python",
   "nbconvert_exporter": "python",
   "pygments_lexer": "ipython3",
   "version": "3.11.3"
  },
  "orig_nbformat": 4
 },
 "nbformat": 4,
 "nbformat_minor": 2
}
